{
 "cells": [
  {
   "cell_type": "code",
   "execution_count": 3,
   "metadata": {},
   "outputs": [],
   "source": [
    "import pandas as pd\n",
    "import numpy as np\n",
    "import glob\n",
    "import matplotlib.pyplot as plt\n",
    "%matplotlib inline"
   ]
  },
  {
   "cell_type": "code",
   "execution_count": 4,
   "metadata": {},
   "outputs": [],
   "source": [
    "from matplotlib.backends.backend_pdf import PdfPages"
   ]
  },
  {
   "cell_type": "code",
   "execution_count": 464,
   "metadata": {},
   "outputs": [],
   "source": [
    "files = glob.glob('/home/weiran/ltcl/ablations/toy_nonlinear_ts_trans_*.csv')"
   ]
  },
  {
   "cell_type": "code",
   "execution_count": 465,
   "metadata": {},
   "outputs": [
    {
     "name": "stdout",
     "output_type": "stream",
     "text": [
      "['/home/weiran/ltcl/ablations/toy_nonlinear_ts_trans_v2.csv']\n"
     ]
    }
   ],
   "source": [
    "print(files)"
   ]
  },
  {
   "cell_type": "code",
   "execution_count": 466,
   "metadata": {},
   "outputs": [
    {
     "name": "stdout",
     "output_type": "stream",
     "text": [
      "0.9838135838508606 0.0\n"
     ]
    }
   ],
   "source": [
    "results = [ ]\n",
    "for f in files:\n",
    "    results.append(pd.read_csv(f)['Value'].max())\n",
    "print(np.mean(results), np.std(results))"
   ]
  },
  {
   "cell_type": "code",
   "execution_count": 279,
   "metadata": {},
   "outputs": [
    {
     "name": "stdout",
     "output_type": "stream",
     "text": [
      "['/home/weiran/ltcl/baselines/toy_linear_ts_fvae_v0.csv', '/home/weiran/ltcl/baselines/toy_linear_ts_fvae_v1.csv']\n"
     ]
    }
   ],
   "source": [
    "files = glob.glob('/home/weiran/ltcl/baselines/toy_linear_ts_fvae_v*')\n",
    "print(files)"
   ]
  },
  {
   "cell_type": "code",
   "execution_count": 7,
   "metadata": {},
   "outputs": [],
   "source": [
    "from scipy import interpolate"
   ]
  },
  {
   "cell_type": "code",
   "execution_count": 388,
   "metadata": {},
   "outputs": [],
   "source": [
    "PATHS = ['/home/weiran/ltcl/baselines/toy_linear_ts_v*',\n",
    "         '/home/weiran/ltcl/baselines/toy_linear_ts_beta_v*',\n",
    "         '/home/weiran/ltcl/baselines/toy_linear_ts_fvae_v*',\n",
    "         '/home/weiran/ltcl/baselines/toy_linear_ts_pcl_v*',\n",
    "         '/home/weiran/ltcl/baselines/toy_linear_ts_svae_v*']\n",
    "colors =  ['gold', 'black', 'gray', 'navy', 'blue']\n",
    "labels = ['LEAP', 'BetaVAE', 'FactorVAE', 'PCL', 'SlowVAE']"
   ]
  },
  {
   "cell_type": "code",
   "execution_count": 33,
   "metadata": {},
   "outputs": [],
   "source": [
    "PATHS = ['/home/weiran/ltcl/towards/linear_changeable_causal/*.csv',\n",
    "         '/home/weiran/ltcl/towards/linear_instan/*.csv']\n",
    "colors =  ['green', 'red']\n",
    "labels = ['Changing relations', 'Instantaneous relations']"
   ]
  },
  {
   "cell_type": "code",
   "execution_count": 34,
   "metadata": {},
   "outputs": [],
   "source": [
    "figure_path = '/home/weiran/figs/'"
   ]
  },
  {
   "cell_type": "code",
   "execution_count": 57,
   "metadata": {
    "scrolled": true
   },
   "outputs": [
    {
     "name": "stderr",
     "output_type": "stream",
     "text": [
      "/tmp/ipykernel_1324/2939418375.py:29: UserWarning: FixedFormatter should only be used together with FixedLocator\n",
      "  axes.set_xticklabels(xlabels)\n"
     ]
    },
    {
     "data": {
      "image/png": "[encoded data removed]",
      "text/plain": [
       "<Figure size 216x144 with 1 Axes>"
      ]
     },
     "metadata": {
      "needs_background": "light"
     },
     "output_type": "display_data"
    }
   ],
   "source": [
    "with PdfPages(figure_path + '/towards.pdf') as pdf:\n",
    "    interval = 2000\n",
    "    steps = 100_000\n",
    "    x_interp = np.arange(0, steps, interval)\n",
    "    fig, axes = plt.subplots(1,1, figsize=(3,2))\n",
    "    for i, path in enumerate(PATHS):\n",
    "        files = glob.glob(path)\n",
    "        results = [ ]\n",
    "        for f in files:\n",
    "            df = pd.read_csv(f)\n",
    "            x = df['Step'].values\n",
    "            y = df['Value'].values\n",
    "            xnew = np.arange(0,x[-1], interval)\n",
    "            f = interpolate.interp1d(x, y, fill_value='extrapolate')  \n",
    "            ynew = f(xnew)\n",
    "            if len(ynew) < len(x_interp):\n",
    "                y_clip = list(ynew) + [ynew[-1]] * (len(x_interp)-len(ynew))\n",
    "            else:\n",
    "                y_clip = ynew[:len(x_interp)]\n",
    "            results.append(y_clip)\n",
    "        results = np.stack(results)\n",
    "        results = np.clip(results, a_max=1, a_min=0)    \n",
    "        axes.fill_between(x_interp, \n",
    "                          np.mean(results, axis=0)-np.std(results, axis=0), \n",
    "                          np.mean(results, axis=0)+np.std(results, axis=0), \n",
    "                          color=colors[i], alpha=.35, label=labels[i])\n",
    "\n",
    "    xlabels = ['{:,.0f}'.format(x) + 'K' for x in axes.get_xticks()/1000]\n",
    "    axes.set_xticklabels(xlabels)\n",
    "    axes.set_xlabel('Steps')\n",
    "    axes.set_ylabel('MCC')\n",
    "    axes.set_title('Generalized VAR Processes')\n",
    "    axes.legend(loc=[0.12,0.225], fontsize=9)\n",
    "    axes.grid(':')\n",
    "    \n",
    "    pdf.savefig(fig, bbox_inches=\"tight\")\n"
   ]
  },
  {
   "cell_type": "code",
   "execution_count": 10,
   "metadata": {},
   "outputs": [],
   "source": [
    "PATHS = ['/home/weiran/ltcl/baselines/toy_nonlinear_ts_v[0-9][0-9].csv',\n",
    "         '/home/weiran/ltcl/baselines/toy_nonlinear_ts_var_v*',\n",
    "         '/home/weiran/ltcl/baselines/toy_nonlinear_ts_beta_v*',\n",
    "         '/home/weiran/ltcl/baselines/toy_nonlinear_ts_fvae_v*',\n",
    "         '/home/weiran/ltcl/baselines/toy_nonlinear_ts_ivae_v*',\n",
    "         '/home/weiran/ltcl/baselines/toy_nonlinear_ts_tcl_v*',\n",
    "         '/home/weiran/ltcl/baselines/toy_nonlinear_ts_pcl_v*',\n",
    "         '/home/weiran/ltcl/baselines/toy_nonlinear_ts_svae_v*']\n",
    "colors =  ['gold','green', 'black', 'gray', 'red', 'orange', 'navy', 'blue']\n",
    "labels = ['LEAP', 'LEAP-VAR','BetaVAE', 'FactorVAE', 'IVAE', 'TCL', 'PCL', 'SlowVAE']"
   ]
  },
  {
   "cell_type": "code",
   "execution_count": 457,
   "metadata": {},
   "outputs": [
    {
     "name": "stderr",
     "output_type": "stream",
     "text": [
      "/tmp/ipykernel_31657/2205402445.py:30: UserWarning: FixedFormatter should only be used together with FixedLocator\n",
      "  axes.set_xticklabels(xlabels)\n"
     ]
    },
    {
     "data": {
      "image/png": "[encoded data removed]",
      "text/plain": [
       "<Figure size 216x216 with 1 Axes>"
      ]
     },
     "metadata": {
      "needs_background": "light"
     },
     "output_type": "display_data"
    }
   ],
   "source": [
    "with PdfPages(figure_path + '/np_traj.pdf') as pdf:\n",
    "\n",
    "    interval = 2000\n",
    "    steps = 100_000\n",
    "    x_interp = np.arange(0, steps, interval)\n",
    "    fig, axes = plt.subplots(1,1, figsize=(3,3))\n",
    "    for i, path in enumerate(PATHS):\n",
    "        files = glob.glob(path)\n",
    "        results = [ ]\n",
    "        for f in files:\n",
    "            df = pd.read_csv(f)\n",
    "            x = df['Step'].values\n",
    "            y = df['Value'].values\n",
    "            xnew = np.arange(0,x[-1], interval)\n",
    "            f = interpolate.interp1d(x, y, fill_value='extrapolate')  \n",
    "            ynew = f(xnew)\n",
    "            if len(ynew) < len(x_interp):\n",
    "                y_clip = list(ynew) + [ynew[-1]] * (len(x_interp)-len(ynew))\n",
    "            else:\n",
    "                y_clip = ynew[:len(x_interp)]\n",
    "            results.append(y_clip)\n",
    "        results = np.stack(results)\n",
    "        results = np.clip(results, a_max=1, a_min=0)    \n",
    "        axes.fill_between(x_interp, \n",
    "                          np.mean(results, axis=0)-np.std(results, axis=0), \n",
    "                          np.mean(results, axis=0)+np.std(results, axis=0), \n",
    "                          color=colors[i], alpha=.35, label=labels[i])\n",
    "\n",
    "    xlabels = ['{:,.0f}'.format(x) + 'K' for x in axes.get_xticks()/1000]\n",
    "    axes.set_xticklabels(xlabels)\n",
    "    axes.set_xlabel('Steps')\n",
    "    axes.set_ylabel('MCC')\n",
    "    axes.set_title('NP Processes')\n",
    "    axes.legend(loc=[1.02,0.22], fontsize=10)\n",
    "    axes.grid(':')\n",
    "    pdf.savefig(fig, bbox_inches=\"tight\")"
   ]
  },
  {
   "cell_type": "code",
   "execution_count": null,
   "metadata": {},
   "outputs": [],
   "source": []
  }
 ],
 "metadata": {
  "kernelspec": {
   "display_name": "LTCL",
   "language": "python",
   "name": "ltcl"
  },
  "language_info": {
   "codemirror_mode": {
    "name": "ipython",
    "version": 3
   },
   "file_extension": ".py",
   "mimetype": "text/x-python",
   "name": "python",
   "nbconvert_exporter": "python",
   "pygments_lexer": "ipython3",
   "version": "3.8.10"
  }
 },
 "nbformat": 4,
 "nbformat_minor": 2
}
